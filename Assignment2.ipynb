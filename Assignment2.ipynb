{
  "nbformat": 4,
  "nbformat_minor": 0,
  "metadata": {
    "colab": {
      "provenance": []
    },
    "kernelspec": {
      "name": "python3",
      "display_name": "Python 3"
    },
    "language_info": {
      "name": "python"
    }
  },
  "cells": [
    {
      "cell_type": "code",
      "execution_count": null,
      "metadata": {
        "colab": {
          "base_uri": "https://localhost:8080/"
        },
        "id": "ZPkvd9VI0cTR",
        "outputId": "cfadcf01-ea30-432b-cbab-32671c8dcc72"
      },
      "outputs": [
        {
          "output_type": "stream",
          "name": "stdout",
          "text": [
            "Requirement already satisfied: pyspark in /usr/local/lib/python3.10/dist-packages (3.4.1)\n",
            "Requirement already satisfied: py4j==0.10.9.7 in /usr/local/lib/python3.10/dist-packages (from pyspark) (0.10.9.7)\n"
          ]
        }
      ],
      "source": [
        "pip install pyspark"
      ]
    },
    {
      "cell_type": "code",
      "source": [
        "import pyspark\n",
        "import pandas as pd"
      ],
      "metadata": {
        "id": "oROv5mNN0gFy"
      },
      "execution_count": null,
      "outputs": []
    },
    {
      "cell_type": "code",
      "source": [
        "from pyspark.sql import SparkSession"
      ],
      "metadata": {
        "id": "ixW53fpi0y0n"
      },
      "execution_count": null,
      "outputs": []
    },
    {
      "cell_type": "code",
      "source": [
        "spark = SparkSession.builder.getOrCreate()"
      ],
      "metadata": {
        "id": "j2RmtGIM039B"
      },
      "execution_count": null,
      "outputs": []
    },
    {
      "cell_type": "code",
      "source": [
        "customerDF = spark.read.csv(\"customer_data.csv\",header = True,inferSchema = True)\n",
        "customerDF.show()"
      ],
      "metadata": {
        "colab": {
          "base_uri": "https://localhost:8080/"
        },
        "id": "tUgl4fJE1Cvy",
        "outputId": "03a58cbd-7d69-4456-c5b4-f57dcb601ea9"
      },
      "execution_count": null,
      "outputs": [
        {
          "output_type": "stream",
          "name": "stdout",
          "text": [
            "+-----------+------------------+---+----------------+\n",
            "|customer_id|              name|age|purchase_history|\n",
            "+-----------+------------------+---+----------------+\n",
            "|          1|          John Doe| 32|               1|\n",
            "|          2|        Jane Smith| 45|               3|\n",
            "|          3|   Michael Johnson| 28|               2|\n",
            "|          4|       Emily Davis| 50|               1|\n",
            "|          5|     Robert Wilson| 35|               3|\n",
            "|          6|       Emma Taylor| 22|               2|\n",
            "|          7|    David Anderson| 40|               1|\n",
            "|          8|       Sarah Brown| 29|               3|\n",
            "|          9|  Matthew Thompson| 37|               2|\n",
            "|         10|   Olivia Martinez| 33|               1|\n",
            "|         11|    William Garcia| 26|               3|\n",
            "|         12|   Sophia Robinson| 48|               2|\n",
            "|         13|         James Lee| 31|               1|\n",
            "|         14|Isabella Rodriguez| 39|               3|\n",
            "|         15|  Joseph Hernandez| 42|               2|\n",
            "|         16|      Emily Wright| 27|               1|\n",
            "|         17|      David Martin| 30|               3|\n",
            "|         18|   Sophia Anderson| 36|               2|\n",
            "|         19|     Oliver Thomas| 43|               1|\n",
            "|         20|         Ava White| 34|               3|\n",
            "+-----------+------------------+---+----------------+\n",
            "\n"
          ]
        }
      ]
    },
    {
      "cell_type": "code",
      "source": [
        "productDF = spark.read.csv(\"product_data.csv\",header = True)\n",
        "productDF.show()"
      ],
      "metadata": {
        "colab": {
          "base_uri": "https://localhost:8080/"
        },
        "id": "4bzrqmdD27E_",
        "outputId": "d1fa6f05-b841-47a2-f78d-ae956417f887"
      },
      "execution_count": null,
      "outputs": [
        {
          "output_type": "stream",
          "name": "stdout",
          "text": [
            "+----------+----------+-----------+-----+\n",
            "|product_id|      name|   category|price|\n",
            "+----------+----------+-----------+-----+\n",
            "|         1|    Laptop|Electronics| 1200|\n",
            "|         2|     Shirt|   Clothing|   30|\n",
            "|         3|      Book|      Books|   15|\n",
            "|         4|Headphones|Electronics|  100|\n",
            "|         5|     Dress|   Clothing|   50|\n",
            "|         6|Smartphone|Electronics|  800|\n",
            "|         7|     Jeans|   Clothing|   40|\n",
            "|         8|    Tablet|Electronics|  500|\n",
            "|         9|     Watch|   Clothing|  100|\n",
            "|        10|   Speaker|Electronics|   80|\n",
            "|        11|     Skirt|   Clothing|   35|\n",
            "|        12|     Novel|      Books|   20|\n",
            "|        13|        TV|Electronics| 1500|\n",
            "|        14|  Sneakers|   Clothing|   60|\n",
            "|        15|   Headset|Electronics|   70|\n",
            "|        16|    Shorts|   Clothing|   25|\n",
            "|        17|     Mouse|Electronics|   20|\n",
            "|        18|       Hat|   Clothing|   15|\n",
            "|        19|  Keyboard|Electronics|   40|\n",
            "|        20|     Pants|   Clothing|   45|\n",
            "+----------+----------+-----------+-----+\n",
            "\n"
          ]
        }
      ]
    },
    {
      "cell_type": "code",
      "source": [
        "#customerDF.filter((productDF[\"category\"] == 'Electronics') & (customerDF[\"purchase_history\"] == productDF[\"product_id\"])).show()\n",
        "\n",
        "df = customerDF.join(productDF, customerDF[\"purchase_history\"] == productDF[\"product_id\"]).filter(productDF[\"category\"] == 'Electronics')\n",
        "df.show()"
      ],
      "metadata": {
        "colab": {
          "base_uri": "https://localhost:8080/"
        },
        "id": "q3Y7nz8C3Q2M",
        "outputId": "27b05285-d39a-4f33-e81a-97c028c94fb4"
      },
      "execution_count": null,
      "outputs": [
        {
          "output_type": "stream",
          "name": "stdout",
          "text": [
            "+-----------+---------------+---+----------------+----------+------+-----------+-----+\n",
            "|customer_id|           name|age|purchase_history|product_id|  name|   category|price|\n",
            "+-----------+---------------+---+----------------+----------+------+-----------+-----+\n",
            "|          1|       John Doe| 32|               1|         1|Laptop|Electronics| 1200|\n",
            "|          4|    Emily Davis| 50|               1|         1|Laptop|Electronics| 1200|\n",
            "|          7| David Anderson| 40|               1|         1|Laptop|Electronics| 1200|\n",
            "|         10|Olivia Martinez| 33|               1|         1|Laptop|Electronics| 1200|\n",
            "|         13|      James Lee| 31|               1|         1|Laptop|Electronics| 1200|\n",
            "|         16|   Emily Wright| 27|               1|         1|Laptop|Electronics| 1200|\n",
            "|         19|  Oliver Thomas| 43|               1|         1|Laptop|Electronics| 1200|\n",
            "+-----------+---------------+---+----------------+----------+------+-----------+-----+\n",
            "\n"
          ]
        }
      ]
    },
    {
      "cell_type": "code",
      "source": [],
      "metadata": {
        "id": "K_JtS-DI6Ms9"
      },
      "execution_count": null,
      "outputs": []
    },
    {
      "cell_type": "code",
      "source": [
        "from pyspark.ml.feature import StringIndexer"
      ],
      "metadata": {
        "id": "0bqejJ9X_FgU"
      },
      "execution_count": null,
      "outputs": []
    },
    {
      "cell_type": "code",
      "source": [
        "\n",
        "indexer = StringIndexer(inputCols=[\"category\"] , outputCols=[\"categoryIndex\"])\n",
        "df_r = indexer.fit(productDF).transform(productDF)\n",
        "df_r.show()\n"
      ],
      "metadata": {
        "colab": {
          "base_uri": "https://localhost:8080/"
        },
        "id": "5xqXg2HG_rlL",
        "outputId": "09cb8e65-fc62-4690-cd1a-9b178f217696"
      },
      "execution_count": null,
      "outputs": [
        {
          "output_type": "stream",
          "name": "stdout",
          "text": [
            "+----------+----------+-----------+-----+-------------+\n",
            "|product_id|      name|   category|price|categoryIndex|\n",
            "+----------+----------+-----------+-----+-------------+\n",
            "|         1|    Laptop|Electronics| 1200|          1.0|\n",
            "|         2|     Shirt|   Clothing|   30|          0.0|\n",
            "|         3|      Book|      Books|   15|          2.0|\n",
            "|         4|Headphones|Electronics|  100|          1.0|\n",
            "|         5|     Dress|   Clothing|   50|          0.0|\n",
            "|         6|Smartphone|Electronics|  800|          1.0|\n",
            "|         7|     Jeans|   Clothing|   40|          0.0|\n",
            "|         8|    Tablet|Electronics|  500|          1.0|\n",
            "|         9|     Watch|   Clothing|  100|          0.0|\n",
            "|        10|   Speaker|Electronics|   80|          1.0|\n",
            "|        11|     Skirt|   Clothing|   35|          0.0|\n",
            "|        12|     Novel|      Books|   20|          2.0|\n",
            "|        13|        TV|Electronics| 1500|          1.0|\n",
            "|        14|  Sneakers|   Clothing|   60|          0.0|\n",
            "|        15|   Headset|Electronics|   70|          1.0|\n",
            "|        16|    Shorts|   Clothing|   25|          0.0|\n",
            "|        17|     Mouse|Electronics|   20|          1.0|\n",
            "|        18|       Hat|   Clothing|   15|          0.0|\n",
            "|        19|  Keyboard|Electronics|   40|          1.0|\n",
            "|        20|     Pants|   Clothing|   45|          0.0|\n",
            "+----------+----------+-----------+-----+-------------+\n",
            "\n"
          ]
        }
      ]
    },
    {
      "cell_type": "code",
      "source": [
        "customerProductDF = customerDF.join(productDF , customerDF['purchase_history'] == productDF['product_id'])\n",
        "customerProductDF.show()"
      ],
      "metadata": {
        "colab": {
          "base_uri": "https://localhost:8080/"
        },
        "id": "5nZcaPlNBfVU",
        "outputId": "9180e483-5493-45ad-b6fd-6728b534a9e0"
      },
      "execution_count": null,
      "outputs": [
        {
          "output_type": "stream",
          "name": "stdout",
          "text": [
            "+-----------+------------------+---+----------------+----------+------+-----------+-----+\n",
            "|customer_id|              name|age|purchase_history|product_id|  name|   category|price|\n",
            "+-----------+------------------+---+----------------+----------+------+-----------+-----+\n",
            "|          1|          John Doe| 32|               1|         1|Laptop|Electronics| 1200|\n",
            "|          2|        Jane Smith| 45|               3|         3|  Book|      Books|   15|\n",
            "|          3|   Michael Johnson| 28|               2|         2| Shirt|   Clothing|   30|\n",
            "|          4|       Emily Davis| 50|               1|         1|Laptop|Electronics| 1200|\n",
            "|          5|     Robert Wilson| 35|               3|         3|  Book|      Books|   15|\n",
            "|          6|       Emma Taylor| 22|               2|         2| Shirt|   Clothing|   30|\n",
            "|          7|    David Anderson| 40|               1|         1|Laptop|Electronics| 1200|\n",
            "|          8|       Sarah Brown| 29|               3|         3|  Book|      Books|   15|\n",
            "|          9|  Matthew Thompson| 37|               2|         2| Shirt|   Clothing|   30|\n",
            "|         10|   Olivia Martinez| 33|               1|         1|Laptop|Electronics| 1200|\n",
            "|         11|    William Garcia| 26|               3|         3|  Book|      Books|   15|\n",
            "|         12|   Sophia Robinson| 48|               2|         2| Shirt|   Clothing|   30|\n",
            "|         13|         James Lee| 31|               1|         1|Laptop|Electronics| 1200|\n",
            "|         14|Isabella Rodriguez| 39|               3|         3|  Book|      Books|   15|\n",
            "|         15|  Joseph Hernandez| 42|               2|         2| Shirt|   Clothing|   30|\n",
            "|         16|      Emily Wright| 27|               1|         1|Laptop|Electronics| 1200|\n",
            "|         17|      David Martin| 30|               3|         3|  Book|      Books|   15|\n",
            "|         18|   Sophia Anderson| 36|               2|         2| Shirt|   Clothing|   30|\n",
            "|         19|     Oliver Thomas| 43|               1|         1|Laptop|Electronics| 1200|\n",
            "|         20|         Ava White| 34|               3|         3|  Book|      Books|   15|\n",
            "+-----------+------------------+---+----------------+----------+------+-----------+-----+\n",
            "\n"
          ]
        }
      ]
    },
    {
      "cell_type": "code",
      "source": [
        "#from pyspark.sql.functions import count\n",
        "\n",
        "# Create pivot table\n",
        "#pivot_table = customerProductDF.groupBy(\"age\").pivot(\"category\").agg(count(\"product_id\"))\n",
        "\n",
        "# Display pivot table\n",
        "#pivot_table.show()"
      ],
      "metadata": {
        "id": "Vm6e68E8ClhT"
      },
      "execution_count": null,
      "outputs": []
    },
    {
      "cell_type": "code",
      "source": [
        "from pyspark.sql.functions import when\n",
        "\n",
        "condition = customerProductDF['age'] < 30\n",
        "original_price = customerProductDF['price']\n",
        "\n",
        "customerProductDF = customerProductDF.withColumn('discounted_price',when(condition,original_price).otherwise(original_price * 0.9))\n",
        "customerProductDF.show()"
      ],
      "metadata": {
        "colab": {
          "base_uri": "https://localhost:8080/"
        },
        "id": "iqS5aWUOD7an",
        "outputId": "8bfb9e88-729b-4b85-95bd-d2df0335fd50"
      },
      "execution_count": null,
      "outputs": [
        {
          "output_type": "stream",
          "name": "stdout",
          "text": [
            "+-----------+------------------+---+----------------+----------+------+-----------+-----+----------------+\n",
            "|customer_id|              name|age|purchase_history|product_id|  name|   category|price|discounted_price|\n",
            "+-----------+------------------+---+----------------+----------+------+-----------+-----+----------------+\n",
            "|          1|          John Doe| 32|               1|         1|Laptop|Electronics| 1200|          1080.0|\n",
            "|          2|        Jane Smith| 45|               3|         3|  Book|      Books|   15|            13.5|\n",
            "|          3|   Michael Johnson| 28|               2|         2| Shirt|   Clothing|   30|              30|\n",
            "|          4|       Emily Davis| 50|               1|         1|Laptop|Electronics| 1200|          1080.0|\n",
            "|          5|     Robert Wilson| 35|               3|         3|  Book|      Books|   15|            13.5|\n",
            "|          6|       Emma Taylor| 22|               2|         2| Shirt|   Clothing|   30|              30|\n",
            "|          7|    David Anderson| 40|               1|         1|Laptop|Electronics| 1200|          1080.0|\n",
            "|          8|       Sarah Brown| 29|               3|         3|  Book|      Books|   15|              15|\n",
            "|          9|  Matthew Thompson| 37|               2|         2| Shirt|   Clothing|   30|            27.0|\n",
            "|         10|   Olivia Martinez| 33|               1|         1|Laptop|Electronics| 1200|          1080.0|\n",
            "|         11|    William Garcia| 26|               3|         3|  Book|      Books|   15|              15|\n",
            "|         12|   Sophia Robinson| 48|               2|         2| Shirt|   Clothing|   30|            27.0|\n",
            "|         13|         James Lee| 31|               1|         1|Laptop|Electronics| 1200|          1080.0|\n",
            "|         14|Isabella Rodriguez| 39|               3|         3|  Book|      Books|   15|            13.5|\n",
            "|         15|  Joseph Hernandez| 42|               2|         2| Shirt|   Clothing|   30|            27.0|\n",
            "|         16|      Emily Wright| 27|               1|         1|Laptop|Electronics| 1200|            1200|\n",
            "|         17|      David Martin| 30|               3|         3|  Book|      Books|   15|            13.5|\n",
            "|         18|   Sophia Anderson| 36|               2|         2| Shirt|   Clothing|   30|            27.0|\n",
            "|         19|     Oliver Thomas| 43|               1|         1|Laptop|Electronics| 1200|          1080.0|\n",
            "|         20|         Ava White| 34|               3|         3|  Book|      Books|   15|            13.5|\n",
            "+-----------+------------------+---+----------------+----------+------+-----------+-----+----------------+\n",
            "\n"
          ]
        }
      ]
    },
    {
      "cell_type": "code",
      "source": [],
      "metadata": {
        "id": "94ecAo8MImx2"
      },
      "execution_count": null,
      "outputs": []
    }
  ]
}